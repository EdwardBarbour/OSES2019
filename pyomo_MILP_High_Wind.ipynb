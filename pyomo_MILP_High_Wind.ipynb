{
 "cells": [
  {
   "cell_type": "code",
   "execution_count": 51,
   "metadata": {},
   "outputs": [],
   "source": [
    "import numpy as np\n",
    "import csv\n",
    "import matplotlib.pyplot as plt\n",
    "import math\n",
    "import random\n",
    "import pandas as pd\n",
    "from pyomo.opt import SolverFactory\n",
    "from pyomo.core import Var\n",
    "import pyomo.environ as en\n",
    "import seaborn as sns\n",
    "import time\n",
    "import os\n",
    "import pickle"
   ]
  },
  {
   "cell_type": "code",
   "execution_count": 52,
   "metadata": {},
   "outputs": [],
   "source": [
    "currentDir = os.getcwd()\n",
    "fs = 12"
   ]
  },
  {
   "cell_type": "code",
   "execution_count": 53,
   "metadata": {},
   "outputs": [],
   "source": [
    "with open('./IntermediateData/optimalParams.pickle', 'rb') as inFile:\n",
    "    optimalParams = pickle.load(inFile)\n",
    "with open('./IntermediateData/reducedGenMatrix.pickle', 'rb') as inFile:\n",
    "    genMatrixR = pickle.load(inFile)"
   ]
  },
  {
   "cell_type": "code",
   "execution_count": 54,
   "metadata": {},
   "outputs": [],
   "source": [
    "demand = np.sum(genMatrixR, axis=1)"
   ]
  },
  {
   "cell_type": "code",
   "execution_count": 55,
   "metadata": {},
   "outputs": [],
   "source": [
    "### get the model dispatch\n",
    "def FCEC_baseload(demandPeriod, plantCapsBaseload, windPeriod):\n",
    "    # get the dispatch based on the demand\n",
    "    \n",
    "    pC = plantCapsBaseload.astype(float)\n",
    "    \n",
    "    genLevels = np.zeros((np.shape(pC)))\n",
    "    maxLevels = np.cumsum(pC, axis=1)\n",
    "    \n",
    "    # make sure demand isnt less than baseload\n",
    "    if demandPeriod < maxLevels[0,-1]:\n",
    "        diffs = maxLevels[0] - demandPeriod\n",
    "        marginIndex = np.where(diffs>=0)[0][0]\n",
    "        \n",
    "        genLevels[0,np.where(diffs<0)] = pC[0,np.where(diffs<0)]\n",
    "        if marginIndex>0:\n",
    "            genLevels[0,marginIndex] = demandPeriod - maxLevels[0,marginIndex-1]\n",
    "        else:\n",
    "            genLevels[0,marginIndex] = demandPeriod\n",
    "        curtailed = windPeriod\n",
    "\n",
    "        \n",
    "    else:\n",
    "        genLevels[0,:] = pC[0,:]\n",
    "        demandPeriod = demandPeriod - maxLevels[0,-1]\n",
    "        \n",
    "        # subtract the wind\n",
    "        if demandPeriod<=windPeriod:\n",
    "            curtailed = windPeriod - demandPeriod\n",
    "            demandPeriod = 0\n",
    "            \n",
    "        else:\n",
    "            curtailed = 0\n",
    "            demandPeriod = demandPeriod - windPeriod\n",
    "            \n",
    "            if demandPeriod<maxLevels[1,-1]:\n",
    "\n",
    "                diffs = maxLevels[1] - demandPeriod\n",
    "                marginIndex = np.where(diffs>=0)[0][0]\n",
    "\n",
    "                genLevels[1,np.where(diffs<0)] = pC[1,np.where(diffs<0)]\n",
    "                if marginIndex>0:\n",
    "                    genLevels[1,marginIndex] = demandPeriod - maxLevels[1,marginIndex-1]\n",
    "                else:\n",
    "                    genLevels[1,marginIndex] = demandPeriod\n",
    "                    \n",
    "            else:\n",
    "                genLevels[1,:] = pC[1,:]\n",
    "\n",
    "    return np.sum(genLevels, axis=0), curtailed"
   ]
  },
  {
   "cell_type": "code",
   "execution_count": 56,
   "metadata": {},
   "outputs": [],
   "source": [
    "Winter_start = 0\n",
    "Winter_end = (np.round(365/4)+1)*48\n",
    "Spring_start = Winter_end\n",
    "Spring_end = Winter_end + np.round(365/4)*48\n",
    "Summer_start = Spring_end\n",
    "Summer_end = Spring_end + np.round(365/4)*48\n",
    "Autumn_start = Summer_end\n",
    "Autumn_end = Summer_end + np.round(365/4)*48\n",
    "\n",
    "seasonMarkers = np.array([Winter_start, Spring_start, Summer_start, Autumn_start, Autumn_end])\n",
    "seasonMarkers = np.asarray([np.int(s) for s in seasonMarkers])\n",
    "\n",
    "seasons = ['winter', 'spring', 'summer', 'autumn']"
   ]
  },
  {
   "cell_type": "code",
   "execution_count": 57,
   "metadata": {},
   "outputs": [],
   "source": [
    "plantCapsBaseload=optimalParams[0]\n",
    "wind = genMatrixR[:,-1]*3\n",
    "demandNetWind = demand - wind"
   ]
  },
  {
   "cell_type": "code",
   "execution_count": 58,
   "metadata": {},
   "outputs": [
    {
     "name": "stdout",
     "output_type": "stream",
     "text": [
      "winter max generating capacity is 47.7GW\n",
      "winter max demand is 49.5GW\n",
      "winter max demand net wind is 48.0GW\n",
      "spring max generating capacity is 43.9GW\n",
      "spring max demand is 36.0GW\n",
      "spring max demand net wind is 34.6GW\n",
      "summer max generating capacity is 42.0GW\n",
      "summer max demand is 37.4GW\n",
      "summer max demand net wind is 33.9GW\n",
      "autumn max generating capacity is 46.3GW\n",
      "autumn max demand is 47.3GW\n",
      "autumn max demand net wind is 42.8GW\n"
     ]
    }
   ],
   "source": [
    "for j,season in enumerate(seasons):\n",
    "    print (season+' max generating capacity is %.1f'%np.sum(optimalParams[j])+'GW')\n",
    "    print (season+' max demand is %.1f'%np.max(demand[seasonMarkers[j]:seasonMarkers[j+1]])+'GW')\n",
    "    print (season+' max demand net wind is %.1f'%np.max(demandNetWind[seasonMarkers[j]:seasonMarkers[j+1]])+'GW')\n",
    "modelMix = np.zeros((len(demand),np.size(plantCapsBaseload, 1)))\n",
    "\n",
    "curtailed = np.zeros(np.shape(demand))\n",
    "for j in range(len(demand)):\n",
    "    # get the dispatch based on the demand\n",
    "    seasonIndex = np.digitize(j, seasonMarkers)-1 \n",
    "    modelMix[j], curtailed[j] = \\\n",
    "    FCEC_baseload(demand[j], plantCapsBaseload=optimalParams[seasonIndex], windPeriod=wind[j])"
   ]
  },
  {
   "cell_type": "code",
   "execution_count": 91,
   "metadata": {},
   "outputs": [
    {
     "data": {
      "text/plain": [
       "0.15034568809013163"
      ]
     },
     "execution_count": 91,
     "metadata": {},
     "output_type": "execute_result"
    }
   ],
   "source": [
    "np.sum(curtailed)/np.sum(wind)"
   ]
  },
  {
   "cell_type": "code",
   "execution_count": 59,
   "metadata": {},
   "outputs": [],
   "source": [
    "### EMISSIONS in g/kWh (= tonnes/GWh)\n",
    "emissions = np.array([16., # nuclear\n",
    "                     20.,  # hydro\n",
    "                     870., # coal\n",
    "                     487., # CCGT\n",
    "                     600., # other\n",
    "                     650., # OCGT\n",
    "                     11.]) # wind\n",
    "# ### FUEL Costs in GBP/MWh \n",
    "fuelCosts = np.array([10.,  # nuclear\n",
    "                     3.,  # hydro\n",
    "                     26., # coal\n",
    "                     40., # CCGT\n",
    "                     70.,  # other\n",
    "                     60.,  # OCGT\n",
    "                     0.])  # wind"
   ]
  },
  {
   "cell_type": "code",
   "execution_count": 60,
   "metadata": {},
   "outputs": [
    {
     "name": "stdout",
     "output_type": "stream",
     "text": [
      "estimate that carbon intensity of UK grid is 433.15 g/kWh\n",
      "model estimate that carbon intensity of UK grid is 353.08 g/kWh\n"
     ]
    }
   ],
   "source": [
    "totalGWh = np.sum(genMatrixR, axis=0)\n",
    "tonnesAnnualType = totalGWh*emissions\n",
    "avEmissions = np.sum(tonnesAnnualType)/np.sum(totalGWh)\n",
    "print ('estimate that carbon intensity of UK grid is %.2f'%(avEmissions)+' g/kWh')\n",
    "\n",
    "estimateMix = np.zeros((np.shape(genMatrixR)))\n",
    "estimateMix[:,:-1] = modelMix\n",
    "estimateMix[:,-1] = wind-curtailed\n",
    "totalGWh = np.sum(estimateMix, axis=0)\n",
    "tonnesAnnualType = totalGWh*emissions\n",
    "avEmissions = np.sum(tonnesAnnualType)/np.sum(totalGWh)\n",
    "print ('model estimate that carbon intensity of UK grid is %.2f'%(avEmissions)+' g/kWh')"
   ]
  },
  {
   "cell_type": "code",
   "execution_count": null,
   "metadata": {},
   "outputs": [],
   "source": []
  },
  {
   "cell_type": "code",
   "execution_count": 61,
   "metadata": {},
   "outputs": [
    {
     "data": {
      "image/png": "[encoded data removed]",
      "text/plain": [
       "<Figure size 288x288 with 1 Axes>"
      ]
     },
     "metadata": {
      "needs_background": "light"
     },
     "output_type": "display_data"
    }
   ],
   "source": [
    "def demand_histogram(demand):\n",
    "    upperVal = np.ceil(np.max(demand)/1)*1\n",
    "    lowerVal = np.floor(np.min(demand)/1)*1\n",
    "    demandBins = np.arange(lowerVal, upperVal+1, 1)\n",
    "    hist, edges = np.histogram(demand, bins=demandBins)\n",
    "    centres = edges[0:-1]+(edges[1:]-edges[0:-1])/2.\n",
    "    widths = edges[1:]-edges[0:-1]\n",
    "    return hist, centres, widths\n",
    "\n",
    "def axis_format(axis, labX, labY, fs):\n",
    "    axis.set_xlabel(labX, fontsize=fs)\n",
    "    axis.set_ylabel(labY, fontsize=fs)\n",
    "    axis.tick_params(axis='both', labelsize=fs)\n",
    "\n",
    "### plot a histogram of carbon intensity\n",
    "carbonByPeriod = np.sum(genMatrixR*emissions, axis=1)/np.sum(genMatrixR, axis=1)\n",
    "hist, centres, widths = demand_histogram(carbonByPeriod)\n",
    "fig = plt.figure(figsize=(4,4))\n",
    "ax1 = fig.add_subplot(111)\n",
    "ax1.bar(centres, hist/np.float(np.sum(hist)), width=widths, alpha=0.5)\n",
    "\n",
    "carbonByPeriod = np.sum(estimateMix*emissions, axis=1)/np.sum(estimateMix, axis=1)\n",
    "hist, centres, widths = demand_histogram(carbonByPeriod)\n",
    "ax1.bar(centres, hist/np.float(np.sum(hist)), width=widths, alpha=0.5)\n",
    "\n",
    "labX = 'CO2 intensity'\n",
    "labY = 'Probability'\n",
    "axis_format(ax1, labX, labY, fs)"
   ]
  },
  {
   "cell_type": "code",
   "execution_count": 62,
   "metadata": {},
   "outputs": [
    {
     "data": {
      "text/plain": [
       "(168, 336)"
      ]
     },
     "execution_count": 62,
     "metadata": {},
     "output_type": "execute_result"
    },
    {
     "data": {
      "image/png": "[encoded data removed]",
      "text/plain": [
       "<Figure size 864x216 with 1 Axes>"
      ]
     },
     "metadata": {
      "needs_background": "light"
     },
     "output_type": "display_data"
    }
   ],
   "source": [
    "window = [168,168*2]\n",
    "times = np.arange(window[0]+0.5,window[1]+0.1,0.5)\n",
    "fig = plt.figure(figsize=(12,3))\n",
    "plt.plot(times, demand[window[0]*2:window[1]*2])\n",
    "plt.plot(times, wind[window[0]*2:window[1]*2])\n",
    "plt.plot(times, curtailed[window[0]*2:window[1]*2])\n",
    "plt.xlim([window[0], window[1]])"
   ]
  },
  {
   "cell_type": "code",
   "execution_count": 63,
   "metadata": {},
   "outputs": [
    {
     "data": {
      "text/plain": [
       "array([ 7.87989451,  0.64461651, 14.62465582, 22.10489326,  2.49143991,\n",
       "        0.        ])"
      ]
     },
     "execution_count": 63,
     "metadata": {},
     "output_type": "execute_result"
    }
   ],
   "source": [
    "np.sum(plantCapsBaseload, axis=0) "
   ]
  },
  {
   "cell_type": "code",
   "execution_count": 64,
   "metadata": {},
   "outputs": [],
   "source": [
    "### here choose whether to allow storage to replace flex\n",
    "plantMaxCap = np.zeros((np.shape(modelMix)))\n",
    "plantMinCap = np.zeros((np.shape(modelMix)))\n",
    "for j,season in enumerate(seasons):\n",
    "    plantMaxCap[seasonMarkers[j]:seasonMarkers[j+1],:] = np.sum(optimalParams[j], axis=0) \n",
    "    plantMinCap[seasonMarkers[j]:seasonMarkers[j+1],:] = optimalParams[j][0]"
   ]
  },
  {
   "cell_type": "code",
   "execution_count": 65,
   "metadata": {},
   "outputs": [],
   "source": [
    "### storage parameters\n",
    "maxCapacity = 20. # GWh\n",
    "maxCapacity = maxCapacity*2\n",
    "maxCharge = 2.5 # GW\n",
    "maxDischarge = -2.5 # GW\n",
    "chargeEff = 0.866\n",
    "dischargeEff = 0.866"
   ]
  },
  {
   "cell_type": "code",
   "execution_count": null,
   "metadata": {},
   "outputs": [],
   "source": []
  },
  {
   "cell_type": "code",
   "execution_count": 66,
   "metadata": {},
   "outputs": [],
   "source": [
    "def create_model(costs, demand, modelMix, curtailed, maxCapacity, maxCharge, maxDischarge, chargeEff, dischargeEff, \\\n",
    "                plantMaxCap, plantMinCap):\n",
    "\n",
    "    # now set up the pyomo model\n",
    "    m = en.ConcreteModel()\n",
    "\n",
    "    # time is what we will use as the model index\n",
    "    m.Time = en.RangeSet(0, len(demand)-1)\n",
    "\n",
    "    ### initialise the actual generation values based on modelMix\n",
    "    dictNuc = dict(enumerate(modelMix[:,0]))\n",
    "    dictHyd = dict(enumerate(modelMix[:,1]))\n",
    "    dictCoa = dict(enumerate(modelMix[:,2]))\n",
    "    dictCCG = dict(enumerate(modelMix[:,3]))\n",
    "    dictOth = dict(enumerate(modelMix[:,4]))\n",
    "    dictOCG = dict(enumerate(modelMix[:,5]))\n",
    "\n",
    "    dictCur = dict(enumerate(curtailed))\n",
    "\n",
    "    # variables (all indexed by Time)\n",
    "    m.SOC = en.Var(m.Time, bounds=(0.,maxCapacity), initialize=0.) \n",
    "    m.posDeltaSOC = en.Var(m.Time, bounds=(0.,maxCharge), initialize=0.) \n",
    "    m.negDeltaSOC = en.Var(m.Time, bounds=(maxDischarge,0.), initialize=0.) \n",
    "\n",
    "    ### now include the energy into storage from each genType\n",
    "    m.posEInNuc = en.Var(m.Time, bounds=(0., maxCharge/chargeEff), initialize=0.) \n",
    "    m.posEInHyd = en.Var(m.Time, bounds=(0., maxCharge/chargeEff), initialize=0.)\n",
    "    m.posEInCoa = en.Var(m.Time, bounds=(0., maxCharge/chargeEff), initialize=0.) \n",
    "    m.posEInCCG = en.Var(m.Time, bounds=(0., maxCharge/chargeEff), initialize=0.)\n",
    "\n",
    "    m.posEInOth = en.Var(m.Time, bounds=(0., maxCharge/chargeEff), initialize=0.) \n",
    "    m.posEInOCG = en.Var(m.Time, bounds=(0., maxCharge/chargeEff), initialize=0.)\n",
    "\n",
    "    m.posEInCur = en.Var(m.Time, bounds=(0., maxCharge/chargeEff), initialize=0.)\n",
    "\n",
    "    ### now include the energy out of storage from each genType\n",
    "    m.negEOutNuc = en.Var(m.Time, bounds=(maxDischarge, 0.),  initialize=0.)\n",
    "    m.negEOutHyd = en.Var(m.Time, bounds=(maxDischarge, 0.),  initialize=0.)\n",
    "    m.negEOutCoa = en.Var(m.Time, bounds=(maxDischarge, 0.),  initialize=0.) \n",
    "    m.negEOutCCG = en.Var(m.Time, bounds=(maxDischarge, 0.),  initialize=0.)\n",
    "\n",
    "    m.negEOutOth = en.Var(m.Time, bounds=(maxDischarge, 0.),  initialize=0.) \n",
    "    m.negEOutOCG = en.Var(m.Time, bounds=(maxDischarge, 0.),  initialize=0.)\n",
    "\n",
    "    ### Storage cannot replace wind or curtailed wind\n",
    "\n",
    "    # ### initialise the bounds\n",
    "    dictMaxNuc = dict(enumerate(plantMaxCap[:,0]))\n",
    "    dictMinNuc = dict(enumerate(plantMinCap[:,0]))\n",
    "    dictMaxHyd = dict(enumerate(plantMaxCap[:,1]))\n",
    "    dictMinHyd = dict(enumerate(plantMinCap[:,1]))\n",
    "    dictMaxCoa = dict(enumerate(plantMaxCap[:,2]))\n",
    "    dictMinCoa = dict(enumerate(plantMinCap[:,2]))\n",
    "    dictMaxCCG = dict(enumerate(plantMaxCap[:,3]))\n",
    "    dictMinCCG = dict(enumerate(plantMinCap[:,3]))\n",
    "\n",
    "    dictMaxOth = dict(enumerate(plantMaxCap[:,4]))\n",
    "    dictMinOth = dict(enumerate(plantMinCap[:,4]))\n",
    "    dictMaxOCG = dict(enumerate(plantMaxCap[:,5]))\n",
    "    dictMinOCG = dict(enumerate(plantMinCap[:,5]))\n",
    "\n",
    "    ### the MIN and MAX limits of each gen type are parameters (indexed by time)\n",
    "    m.minNuc = en.Param(m.Time, initialize=dictMinNuc)\n",
    "    m.maxNuc = en.Param(m.Time, initialize=dictMaxNuc)\n",
    "    m.minHyd = en.Param(m.Time, initialize=dictMinHyd)\n",
    "    m.maxHyd = en.Param(m.Time, initialize=dictMaxHyd)\n",
    "    m.minCoa = en.Param(m.Time, initialize=dictMinCoa)\n",
    "    m.maxCoa = en.Param(m.Time, initialize=dictMaxCoa)\n",
    "    m.minCCG = en.Param(m.Time, initialize=dictMinCCG)\n",
    "    m.maxCCG = en.Param(m.Time, initialize=dictMaxCCG)\n",
    "\n",
    "    m.minOth = en.Param(m.Time, initialize=dictMinOth)\n",
    "    m.maxOth = en.Param(m.Time, initialize=dictMaxOth)\n",
    "    m.minOCG = en.Param(m.Time, initialize=dictMinOCG)\n",
    "    m.maxOCG = en.Param(m.Time, initialize=dictMaxOCG)\n",
    "\n",
    "    def bounds_Nuc_rule(m, i):\n",
    "        return (m.minNuc[i], m.maxNuc[i])\n",
    "    m.netNuc = en.Var(m.Time, bounds=bounds_Nuc_rule, initialize=dictNuc)\n",
    "\n",
    "    def bounds_Hyd_rule(m, i):\n",
    "        return (m.minHyd[i], m.maxHyd[i])\n",
    "    m.netHyd = en.Var(m.Time, bounds=bounds_Hyd_rule, initialize=dictHyd)\n",
    "\n",
    "    def bounds_Coa_rule(m, i):\n",
    "        return (m.minCoa[i], m.maxCoa[i])\n",
    "    m.netCoa = en.Var(m.Time, bounds=bounds_Coa_rule, initialize=dictCoa)\n",
    "\n",
    "    def bounds_CCG_rule(m, i):\n",
    "        return (m.minCCG[i], m.maxCCG[i])\n",
    "    m.netCCG = en.Var(m.Time, bounds=bounds_CCG_rule, initialize=dictCCG)\n",
    "\n",
    "    def bounds_Oth_rule(m, i):\n",
    "        return (m.minOth[i], m.maxOth[i])\n",
    "    m.netOth = en.Var(m.Time, bounds=bounds_Oth_rule, initialize=dictOth)\n",
    "    def bounds_OCG_rule(m, i):\n",
    "        return (m.minOCG[i], m.maxOCG[i])\n",
    "    m.netOCG = en.Var(m.Time, bounds=bounds_OCG_rule, initialize=dictOCG)\n",
    "\n",
    "    ### wind doesn't change \n",
    "    m.netCur = en.Var(m.Time, initialize=dictCur)\n",
    "\n",
    "    ### STORAGE EFFICIENCY\n",
    "    m.etaChg = en.Param(initialize = chargeEff)\n",
    "    m.etaDisChg = en.Param(initialize = dischargeEff)\n",
    "\n",
    "    m.paramNuc = en.Param(m.Time, initialize=dictNuc)\n",
    "    m.paramHyd = en.Param(m.Time, initialize=dictHyd)\n",
    "    m.paramCoa = en.Param(m.Time, initialize=dictCoa)\n",
    "    m.paramCCG = en.Param(m.Time, initialize=dictCCG)\n",
    "\n",
    "    m.paramOth = en.Param(m.Time, initialize=dictOth)\n",
    "    m.paramOCG = en.Param(m.Time, initialize=dictOCG)\n",
    "\n",
    "    m.paramCur = en.Param(m.Time, initialize=dictCur)\n",
    "\n",
    "    # Boolean variables (again indexed by Time)\n",
    "    m.Bool_char=en.Var(m.Time,within=en.Boolean)\n",
    "    m.Bool_dis=en.Var(m.Time,within=en.Boolean,initialize=0) \n",
    "\n",
    "    # we use bigM to bound the problem\n",
    "    # boolean constraints\n",
    "    def Bool_char_rule_1(m,i):\n",
    "        bigM=500000\n",
    "        return((m.posDeltaSOC[i])>=-bigM*(m.Bool_char[i]))\n",
    "    m.Batt_ch1=en.Constraint(m.Time,rule=Bool_char_rule_1)\n",
    "    # if battery is charging, charging must be greater than -large\n",
    "    # if not, charging geq zero\n",
    "    def Bool_char_rule_2(m,i):\n",
    "        bigM=500000\n",
    "        return((m.posDeltaSOC[i])<=0+bigM*(1-m.Bool_dis[i]))\n",
    "    m.Batt_ch2=en.Constraint(m.Time,rule=Bool_char_rule_2)\n",
    "    # if batt discharging, charging must be leq zero\n",
    "    # if not, charging leq +large\n",
    "    def Bool_char_rule_3(m,i):\n",
    "        bigM=500000\n",
    "        return((m.negDeltaSOC[i])<=bigM*(m.Bool_dis[i]))\n",
    "    m.Batt_cd3=en.Constraint(m.Time,rule=Bool_char_rule_3)\n",
    "    # if batt discharge, discharge leq POSITIVE large\n",
    "    # if not, discharge leq 0\n",
    "    def Bool_char_rule_4(m,i):\n",
    "        bigM=500000\n",
    "        return((m.negDeltaSOC[i])>=0-bigM*(1-m.Bool_char[i]))\n",
    "    m.Batt_cd4=en.Constraint(m.Time,rule=Bool_char_rule_4)\n",
    "    # if batt charge, discharge geq zero\n",
    "    # if not, discharge geq -large\n",
    "    def Batt_char_dis(m,i):\n",
    "        return (m.Bool_char[i]+m.Bool_dis[i],1)\n",
    "    m.Batt_char_dis=en.Constraint(m.Time,rule=Batt_char_dis)\n",
    "\n",
    "    ####### OBJECTIVE #######\n",
    "    def Obj_fn(m):\n",
    "        return sum((m.netNuc[i]*costs[0] + m.netHyd[i]*costs[1] + \\\n",
    "                    m.netCoa[i]*costs[2] + m.netCCG[i]*costs[3] + \\\n",
    "                    m.netOth[i]*costs[4] + m.netOCG[i]*costs[5]) for i in m.Time)\n",
    "    m.total_cost = en.Objective(rule=Obj_fn,sense=en.minimize)\n",
    "\n",
    "    ### constraint on state of charge\n",
    "    def SOC_rule(m,t):\n",
    "        if t==0:\n",
    "            return (m.SOC[t] == m.posDeltaSOC[t]+m.negDeltaSOC[t])\n",
    "        else:\n",
    "            return (m.SOC[t] == m.SOC[t-1]+m.posDeltaSOC[t]+m.negDeltaSOC[t])   \n",
    "    # then we specify that this constraint is indexed by time\n",
    "    m.storage_SOC = en.Constraint(m.Time,rule=SOC_rule)\n",
    "\n",
    "    ### curtailed rule\n",
    "    def Max_Cur_rule(m,i):\n",
    "        return m.netCur[i]>=0.\n",
    "    m.maxCur_cons = en.Constraint(m.Time, rule=Max_Cur_rule)\n",
    "\n",
    "    def net_Nuc(m,i):\n",
    "        return m.netNuc[i] == m.paramNuc[i]+m.posEInNuc[i]+m.negEOutNuc[i]\n",
    "    m.E_netNuc_cons = en.Constraint(m.Time,rule=net_Nuc)\n",
    "    def net_Hyd(m,i):\n",
    "        return m.netHyd[i] == m.paramHyd[i]+m.posEInHyd[i]+m.negEOutHyd[i]\n",
    "    m.E_netHyd_cons = en.Constraint(m.Time,rule=net_Hyd)\n",
    "    def net_Coa(m,i):\n",
    "        return m.netCoa[i] == m.paramCoa[i]+m.posEInCoa[i]+m.negEOutCoa[i]\n",
    "    m.E_netCoa_cons = en.Constraint(m.Time,rule=net_Coa)\n",
    "    def net_CCG(m,i):\n",
    "        return m.netCCG[i] == m.paramCCG[i]+m.posEInCCG[i]+m.negEOutCCG[i]\n",
    "    m.E_netCCG_cons = en.Constraint(m.Time,rule=net_CCG)\n",
    "\n",
    "    def net_Oth(m,i):\n",
    "        return m.netOth[i] == m.paramOth[i]+m.posEInOth[i]+m.negEOutOth[i]\n",
    "    m.E_netOth_cons = en.Constraint(m.Time,rule=net_Oth)\n",
    "    def net_OCG(m,i):\n",
    "        return m.netOCG[i] == m.paramOCG[i]+m.posEInOCG[i]+m.negEOutOCG[i]\n",
    "    m.E_netOCG_cons = en.Constraint(m.Time,rule=net_OCG)\n",
    "    \n",
    "    ### this constraint is different, as CHARGING DOESNT INCREASE curtailed, it DECREASES it\n",
    "    # m.del_component(m.E_netCur_cons)\n",
    "    def net_Cur(m,i):\n",
    "        return m.netCur[i] == m.paramCur[i]-m.posEInCur[i]\n",
    "    m.E_netCur_cons = en.Constraint(m.Time,rule=net_Cur)\n",
    "\n",
    "    #ensure charging efficiency is divided\n",
    "    def pos_E_in_rule(m,i):\n",
    "        return (m.posEInNuc[i]+m.posEInHyd[i]+m.posEInCoa[i]+m.posEInCCG[i]+\\\n",
    "                +m.posEInOth[i]+m.posEInOCG[i]+\\\n",
    "                m.posEInCur[i]) == m.posDeltaSOC[i]/m.etaChg\n",
    "    m.posEIn_cons = en.Constraint(m.Time, rule=pos_E_in_rule)\n",
    "    # ensure discharging eff multiplied\n",
    "    def neg_E_out_rule(m,i):\n",
    "        return (m.negEOutNuc[i]+m.negEOutHyd[i]+m.negEOutCoa[i]+m.negEOutCCG[i]+\\\n",
    "                m.negEOutOth[i]+m.negEOutOCG[i]) == m.negDeltaSOC[i]*m.etaDisChg\n",
    "    m.negEOut_cons = en.Constraint(m.Time, rule=neg_E_out_rule)\n",
    "    \n",
    "    return m"
   ]
  },
  {
   "cell_type": "code",
   "execution_count": 67,
   "metadata": {},
   "outputs": [],
   "source": [
    "def get_model_results(m, modelMix, chargeEff, dischargeEff):\n",
    "    modelMixSt = np.zeros(np.shape(modelMix))\n",
    "    modelMixSt[:,0] = np.asarray([m.netNuc[i].value for i in m.Time])\n",
    "    modelMixSt[:,1] = np.asarray([m.netHyd[i].value for i in m.Time])\n",
    "    modelMixSt[:,2] = np.asarray([m.netCoa[i].value for i in m.Time])\n",
    "    modelMixSt[:,3] = np.asarray([m.netCCG[i].value for i in m.Time])\n",
    "    modelMixSt[:,4] = np.asarray([m.netOth[i].value for i in m.Time])\n",
    "    modelMixSt[:,5] = np.asarray([m.netOCG[i].value for i in m.Time])\n",
    "    \n",
    "    leftOverCurt = np.asarray([m.netCur[i].value for i in m.Time])\n",
    "    \n",
    "    storageCharge = np.asarray([m.posDeltaSOC[i].value for i in m.Time])/chargeEff\n",
    "    storageDischarge = np.asarray([m.negDeltaSOC[i].value for i in m.Time])*dischargeEff\n",
    "    \n",
    "    return modelMixSt, leftOverCurt, storageCharge, storageDischarge"
   ]
  },
  {
   "cell_type": "code",
   "execution_count": 68,
   "metadata": {},
   "outputs": [],
   "source": [
    "mFC = create_model(fuelCosts, demand, modelMix, curtailed, maxCapacity, maxCharge, maxDischarge, chargeEff, dischargeEff, \\\n",
    "                plantMaxCap, plantMinCap)"
   ]
  },
  {
   "cell_type": "code",
   "execution_count": 69,
   "metadata": {},
   "outputs": [],
   "source": [
    "opt = SolverFactory(\"cplex\", executable=\"/opt/ibm/ILOG/CPLEX_Studio1271/cplex/bin/x86-64_linux/cplex\")"
   ]
  },
  {
   "cell_type": "code",
   "execution_count": 70,
   "metadata": {},
   "outputs": [],
   "source": [
    "# print('manually calculated objective function %.f'%(np.sum(np.sum(estimateMix[:,:-1], axis=0)*fuelCosts[:-1])))\n",
    "# print('manually calculated objective function %.f'%mFC.total_cost())"
   ]
  },
  {
   "cell_type": "code",
   "execution_count": 71,
   "metadata": {},
   "outputs": [
    {
     "name": "stdout",
     "output_type": "stream",
     "text": [
      "Time elapsed: 52.49\n"
     ]
    }
   ],
   "source": [
    "# time it for good measure\n",
    "t = time.time()\n",
    "results = opt.solve(mFC)\n",
    "elapsed = time.time() - t\n",
    "print('Time elapsed: %.2f'%elapsed)"
   ]
  },
  {
   "cell_type": "code",
   "execution_count": 72,
   "metadata": {},
   "outputs": [
    {
     "name": "stdout",
     "output_type": "stream",
     "text": [
      "optimsed objective function 11035743\n"
     ]
    }
   ],
   "source": [
    "print('optimsed objective function %.f'%mFC.total_cost())"
   ]
  },
  {
   "cell_type": "code",
   "execution_count": 73,
   "metadata": {},
   "outputs": [],
   "source": [
    "modelMixStFC, leftOverCurtFC, storageChargeFC, storageDischargeFC = \\\n",
    "get_model_results(mFC, modelMix, chargeEff, dischargeEff)"
   ]
  },
  {
   "cell_type": "code",
   "execution_count": 74,
   "metadata": {},
   "outputs": [],
   "source": [
    "mEC = create_model(emissions, demand, modelMix, curtailed, maxCapacity, maxCharge, maxDischarge, chargeEff, dischargeEff, \\\n",
    "                plantMaxCap, plantMinCap)"
   ]
  },
  {
   "cell_type": "code",
   "execution_count": 75,
   "metadata": {},
   "outputs": [
    {
     "name": "stdout",
     "output_type": "stream",
     "text": [
      "Time elapsed: 2165.07\n"
     ]
    }
   ],
   "source": [
    "# time it for good measure\n",
    "t = time.time()\n",
    "results = opt.solve(mEC)\n",
    "elapsed = time.time() - t\n",
    "print('Time elapsed: %.2f'%elapsed)"
   ]
  },
  {
   "cell_type": "code",
   "execution_count": 76,
   "metadata": {},
   "outputs": [],
   "source": [
    "modelMixStEC, leftOverCurtEC, storageChargeEC, storageDischargeEC = \\\n",
    "get_model_results(mEC, modelMix, chargeEff, dischargeEff)"
   ]
  },
  {
   "cell_type": "code",
   "execution_count": null,
   "metadata": {},
   "outputs": [],
   "source": []
  },
  {
   "cell_type": "code",
   "execution_count": null,
   "metadata": {},
   "outputs": [],
   "source": []
  },
  {
   "cell_type": "code",
   "execution_count": 77,
   "metadata": {},
   "outputs": [
    {
     "data": {
      "image/png": "[encoded data removed]",
      "text/plain": [
       "<Figure size 504x72 with 1 Axes>"
      ]
     },
     "metadata": {
      "needs_background": "light"
     },
     "output_type": "display_data"
    }
   ],
   "source": [
    "### looking at the model results\n",
    "colors = sns.color_palette('deep', 7)\n",
    "sns.palplot(colors)\n",
    "window = [168+72,168*2]\n",
    "times = np.arange(window[0]+0.5,window[1]+0.1,0.5)"
   ]
  },
  {
   "cell_type": "code",
   "execution_count": 78,
   "metadata": {},
   "outputs": [
    {
     "data": {
      "text/plain": [
       "<matplotlib.legend.Legend at 0x7f62c5e9f400>"
      ]
     },
     "execution_count": 78,
     "metadata": {},
     "output_type": "execute_result"
    },
    {
     "data": {
      "image/png": "[encoded data removed]",
      "text/plain": [
       "<Figure size 360x360 with 3 Axes>"
      ]
     },
     "metadata": {
      "needs_background": "light"
     },
     "output_type": "display_data"
    }
   ],
   "source": [
    "fig = plt.figure(figsize=(5,5))\n",
    "ax1 = fig.add_subplot(311)\n",
    "bottomsPos = np.zeros(len(modelMix[window[0]*2:window[1]*2,:]))\n",
    "for col in range(np.size(modelMix,1)):\n",
    "    d = modelMix[window[0]*2:window[1]*2,col]\n",
    "    ax1.bar(times, d, bottom=bottomsPos, width=0.5, color=colors[col], alpha=0.9)\n",
    "    bottomsPos+=d\n",
    "ax1.set_title('original dispatch minus wind')\n",
    "ax1.set_xlim([window[0], window[1]])\n",
    "tickLocs = np.arange(window[0], window[1], 12)\n",
    "ax1.set_xticks(tickLocs)\n",
    "ax1.set_xticklabels([''])\n",
    "ax1.set_ylim([-5,45])\n",
    "ax1.set_ylabel('Generation (GW)')\n",
    "\n",
    "ax1 = fig.add_subplot(312)\n",
    "bottomsPos = np.zeros(len(modelMixStFC[window[0]*2:window[1]*2,:]))\n",
    "for col in range(np.size(modelMixStFC,1)):\n",
    "    d = modelMixStFC[window[0]*2:window[1]*2,col]\n",
    "    ax1.bar(times, d, bottom=bottomsPos, width=0.5, color=colors[col], alpha=0.9)\n",
    "    bottomsPos+=d\n",
    "ax1.bar(times, -storageDischargeFC[window[0]*2:window[1]*2], bottom=bottomsPos, width=0.5, \\\n",
    "        color='y', hatch='\\\\\\\\\\\\\\\\\\\\')\n",
    "ax1.bar(times, -storageChargeFC[window[0]*2:window[1]*2], width=0.5, color='y', hatch='////')\n",
    "ax1.set_title('running costs minimisation')\n",
    "ax1.set_xlim([window[0], window[1]])\n",
    "ax1.set_xticks(tickLocs)\n",
    "ax1.set_xticklabels([''])\n",
    "ax1.set_ylim([-5,45])\n",
    "ax1.set_ylabel('Generation (GW)')\n",
    "\n",
    "ax1 = fig.add_subplot(313)\n",
    "bottomsPos = np.zeros(len(modelMixStEC[window[0]*2:window[1]*2,:]))\n",
    "for col in range(np.size(modelMixStEC,1)):\n",
    "    d = modelMixStEC[window[0]*2:window[1]*2,col]\n",
    "    ax1.bar(times, d, bottom=bottomsPos, width=0.5, color=colors[col], alpha=0.9)\n",
    "    bottomsPos+=d\n",
    "ax1.bar(times, -storageDischargeEC[window[0]*2:window[1]*2], bottom=bottomsPos, width=0.5, \\\n",
    "        color='y', hatch='\\\\\\\\\\\\\\\\\\\\')\n",
    "ax1.bar(times, -storageChargeEC[window[0]*2:window[1]*2], width=0.5, color='y', hatch='////')\n",
    "ax1.set_title('emissions minimisation')\n",
    "ax1.set_xlim([window[0], window[1]])\n",
    "ax1.set_xticks(tickLocs)\n",
    "tickLabs = [str(x) for x in tickLocs]\n",
    "ax1.set_xticklabels(tickLabs)\n",
    "ax1.set_ylim([-5,45])\n",
    "ax1.set_ylabel('Generation (GW)')\n",
    "ax1.set_xlabel('hours')\n",
    "\n",
    "fig.tight_layout()\n",
    "\n",
    "labZ = ['nuclear', 'hydro', 'coal', 'CCGT', 'other', 'st. charge', 'st. discharge']\n",
    "rects = []\n",
    "for col in range(np.shape(modelMixStEC)[1]-1):\n",
    "    r = plt.Rectangle((0, 0), 1, 1, fc=colors[col], alpha=1)\n",
    "    rects.append(r)\n",
    "r = plt.Rectangle((0, 0), 1, 1, fc='y', hatch='////')\n",
    "rects.append(r)\n",
    "r = plt.Rectangle((0, 0), 1, 1, fc='y', hatch='\\\\\\\\\\\\\\\\\\\\')\n",
    "rects.append(r)\n",
    "\n",
    "ax1.legend(rects, labZ, loc='upper center', bbox_to_anchor=(0.5, -0.4),\n",
    "          fancybox=True, shadow=True, ncol=4)"
   ]
  },
  {
   "cell_type": "code",
   "execution_count": 79,
   "metadata": {},
   "outputs": [
    {
     "data": {
      "text/plain": [
       "6"
      ]
     },
     "execution_count": 79,
     "metadata": {},
     "output_type": "execute_result"
    }
   ],
   "source": [
    "np.shape(modelMixStEC)[1]"
   ]
  },
  {
   "cell_type": "code",
   "execution_count": null,
   "metadata": {},
   "outputs": [],
   "source": []
  },
  {
   "cell_type": "code",
   "execution_count": 80,
   "metadata": {},
   "outputs": [],
   "source": [
    "### create a matrix including wind\n",
    "estimateMixFC = np.zeros((np.shape(genMatrixR)))\n",
    "estimateMixFC[:,:-1] = modelMixStFC\n",
    "estimateMixFC[:,-1] = wind-leftOverCurtFC\n",
    "\n",
    "estimateMixEC = np.zeros((np.shape(genMatrixR)))\n",
    "estimateMixEC[:,:-1] = modelMixStEC\n",
    "estimateMixEC[:,-1] = wind-leftOverCurtEC"
   ]
  },
  {
   "cell_type": "code",
   "execution_count": 81,
   "metadata": {},
   "outputs": [],
   "source": [
    "### remove OCGT from all mixes as uninteresting\n",
    "estimateMixNew = np.zeros((len(estimateMix),np.shape(estimateMix)[1]-1))\n",
    "estimateMixNew[:,0:5], estimateMixNew[:,-1] = estimateMix[:,0:5], estimateMix[:,-1]\n",
    "estimateMixNewFC = np.zeros((len(estimateMixFC),np.shape(estimateMixFC)[1]-1))\n",
    "estimateMixNewFC[:,0:5], estimateMixNewFC[:,-1] = estimateMixFC[:,0:5], estimateMixFC[:,-1]\n",
    "estimateMixNewEC = np.zeros((len(estimateMixEC),np.shape(estimateMixEC)[1]-1))\n",
    "estimateMixNewEC[:,0:5], estimateMixNewEC[:,-1] = estimateMixEC[:,0:5], estimateMixEC[:,-1]"
   ]
  },
  {
   "cell_type": "code",
   "execution_count": 82,
   "metadata": {},
   "outputs": [],
   "source": [
    "estimateCols = ['nuclear', 'hydro', 'coal', 'CCGT', 'other', 'wind']\n",
    "nGenTypes = len(estimateCols)"
   ]
  },
  {
   "cell_type": "code",
   "execution_count": 83,
   "metadata": {},
   "outputs": [],
   "source": [
    "columns = ['genType','generation', 'optCat']\n",
    "dataZ = np.zeros((len(estimateMix)*3*nGenTypes, 3))\n",
    "index = np.arange(len(estimateMix)*3*nGenTypes)"
   ]
  },
  {
   "cell_type": "code",
   "execution_count": 84,
   "metadata": {},
   "outputs": [],
   "source": [
    "for j in range(len(dataZ)):\n",
    "    if j<len(estimateMixNew)*6:\n",
    "        row, r = np.divmod(j,nGenTypes)\n",
    "        dataZ[j,0] = r\n",
    "        dataZ[j,1] = estimateMixNew[row,r]\n",
    "        dataZ[j,2] = 0\n",
    "    elif j<len(estimateMixNew)*12:\n",
    "        row, r = np.divmod(j,nGenTypes)\n",
    "        row = row-len(estimateMixNew)\n",
    "        dataZ[j,0] = r\n",
    "        dataZ[j,1] = estimateMixNewFC[row,r]\n",
    "        dataZ[j,2] = 1\n",
    "    else:\n",
    "        row, r = np.divmod(j,nGenTypes)\n",
    "        row = row-len(estimateMixNew)*2\n",
    "        dataZ[j,0] = r\n",
    "        dataZ[j,1] = estimateMixNewEC[row,r]\n",
    "        dataZ[j,2] = 2"
   ]
  },
  {
   "cell_type": "code",
   "execution_count": 96,
   "metadata": {},
   "outputs": [],
   "source": [
    "fs = 10\n",
    "import matplotlib.lines as mlines"
   ]
  },
  {
   "cell_type": "code",
   "execution_count": 107,
   "metadata": {},
   "outputs": [
    {
     "data": {
      "image/png": "[encoded data removed]",
      "text/plain": [
       "<Figure size 576x216 with 1 Axes>"
      ]
     },
     "metadata": {
      "needs_background": "light"
     },
     "output_type": "display_data"
    }
   ],
   "source": [
    "DF = pd.DataFrame(dataZ, index, columns);\n",
    "fig = plt.figure(figsize=(8,3))\n",
    "ax1 = fig.add_subplot(111)\n",
    "sns.boxplot(x=\"genType\", y=\"generation\", hue=\"optCat\", data=DF, flierprops=dict(marker='o', markersize=0),\\\n",
    "         width=0.8, showmeans=True, palette=\"Set3\")\n",
    "ax1.set_xticklabels(estimateCols);\n",
    "ax1.set_ylabel('Generation (GW)', fontsize=fs)\n",
    "ax1.set_xlabel('');\n",
    "ax1.tick_params(axis='both',labelsize=fs)\n",
    "# ax1.set_xlabel('User Load Shape', fontsize=fs), ax1.set_ylabel('Payback period (years)', fontsize=fs)\n",
    "\n",
    "tri = mlines.Line2D([], [], color='green', marker='^', linestyle='None',\n",
    "                          markersize=7, label='mean')\n",
    "colorsSecond = sns.color_palette(\"Set3\")\n",
    "labOpt = ['data-driven dispatch', 'minimum running costs', 'minimum emissions']\n",
    "rects = []\n",
    "r1 = plt.Rectangle((0, 0), 1, 1, fc=colorsSecond[0], ec='k', alpha=1, label='data-driven dispatch')\n",
    "r2 = plt.Rectangle((0, 0), 1, 1, fc=colorsSecond[1], ec='k', alpha=1, label='minimum running costs')\n",
    "r3 = plt.Rectangle((0, 0), 1, 1, fc=colorsSecond[2], ec='k', alpha=1, label='minimum emissions')\n",
    "\n",
    "ax1.legend(handles=[r1,r2,r3,tri], loc='upper left', fancybox=True, shadow=True, ncol=1, fontsize=fs)"
   ]
  },
  {
   "cell_type": "code",
   "execution_count": 101,
   "metadata": {},
   "outputs": [
    {
     "data": {
      "image/png": "[encoded data removed]",
      "text/plain": [
       "<Figure size 576x288 with 3 Axes>"
      ]
     },
     "metadata": {},
     "output_type": "display_data"
    }
   ],
   "source": [
    "## Pie chart\n",
    "def make_autopct1(values):\n",
    "    def my_autopct(pct):\n",
    "        total = sum(values)\n",
    "        val = int(round(pct*total/100.0)/1000)\n",
    "        return '{v:d} TWh'.format(v=val)\n",
    "    return my_autopct\n",
    "\n",
    "\n",
    "fig1, axs = plt.subplots(1,3)\n",
    "fig1.set_size_inches(8,4)\n",
    "\n",
    "for j in range(3):\n",
    "    if j == 0:\n",
    "        plotMix = estimateMix\n",
    "    if j == 1:\n",
    "        plotMix = estimateMixFC\n",
    "    if j == 2:\n",
    "        plotMix = estimateMixEC \n",
    "\n",
    "    sizes = np.sum(plotMix, axis=0)/2.\n",
    "    keep = np.array([0,1,2,3,4,6])\n",
    "    sizes = sizes[keep]\n",
    "    explode = (0,0,0,0,0,0.1)\n",
    "    labZW = ['nuclear', 'hydro', 'coal', 'CCGT', 'other', 'wind']\n",
    "    axs[j].pie(sizes, explode=explode, autopct=make_autopct1(sizes), shadow=False, startangle=90,\n",
    "              colors=[colors[i] for i in keep])\n",
    "    # Equal aspect ratio ensures that pie is drawn as a circle\n",
    "    axs[j].axis('equal')\n",
    "    \n",
    "labZW = ['nuclear', 'hydro', 'coal', 'CCGT', 'other', 'wind']\n",
    "rects = []\n",
    "for col in range(5):\n",
    "    r = plt.Rectangle((0, 0), 1, 1, fc=colors[col], alpha=1)\n",
    "    rects.append(r)\n",
    "r = plt.Rectangle((0, 0), 1, 1, fc=colors[6], alpha=1)\n",
    "rects.append(r)\n",
    "axs[1].legend(rects, labZW, loc='upper center', bbox_to_anchor=(0.5, 0.2),\n",
    "          fancybox=True, shadow=True, ncol=7)"
   ]
  },
  {
   "cell_type": "code",
   "execution_count": 88,
   "metadata": {},
   "outputs": [
    {
     "data": {
      "text/plain": [
       "<matplotlib.legend.Legend at 0x7f635ef0e5f8>"
      ]
     },
     "execution_count": 88,
     "metadata": {},
     "output_type": "execute_result"
    },
    {
     "data": {
      "image/png": "[encoded data removed]",
      "text/plain": [
       "<Figure size 288x288 with 1 Axes>"
      ]
     },
     "metadata": {
      "needs_background": "light"
     },
     "output_type": "display_data"
    }
   ],
   "source": [
    "def demand_histogram(demand):\n",
    "    upperVal = np.ceil(np.max(demand)/1)*1\n",
    "    lowerVal = np.floor(np.min(demand)/1)*1\n",
    "    demandBins = np.arange(lowerVal, upperVal+1, 5)\n",
    "    hist, edges = np.histogram(demand, bins=demandBins)\n",
    "    centres = edges[0:-1]+(edges[1:]-edges[0:-1])/2.\n",
    "    widths = edges[1:]-edges[0:-1]\n",
    "    return hist, centres, widths\n",
    "\n",
    "def axis_format(axis, labX, labY, fs):\n",
    "    axis.set_xlabel(labX, fontsize=fs)\n",
    "    axis.set_ylabel(labY, fontsize=fs)\n",
    "    axis.tick_params(axis='both', labelsize=fs)\n",
    "\n",
    "### plot a histogram of carbon intensity\n",
    "carbonByPeriod = np.sum(estimateMix*emissions, axis=1)/np.sum(estimateMix, axis=1)\n",
    "hist, centres, widths = demand_histogram(carbonByPeriod)\n",
    "fig = plt.figure(figsize=(4,4))\n",
    "ax1 = fig.add_subplot(111)\n",
    "l1, = ax1.plot(centres, hist/np.float(np.sum(hist)))#, width=widths, alpha=0.5)\n",
    "\n",
    "carbonByPeriod = np.sum(estimateMixFC*emissions, axis=1)/np.sum(estimateMixFC, axis=1)\n",
    "hist, centres, widths = demand_histogram(carbonByPeriod)\n",
    "l2, = ax1.plot(centres, hist/np.float(np.sum(hist)))#, width=widths, alpha=0.5)\n",
    "\n",
    "carbonByPeriod = np.sum(estimateMixEC*emissions, axis=1)/np.sum(estimateMixEC, axis=1)\n",
    "hist, centres, widths = demand_histogram(carbonByPeriod)\n",
    "l3, = ax1.plot(centres, hist/np.float(np.sum(hist)))#, width=widths, alpha=0.5)\n",
    "\n",
    "labX = 'CO2 intensity'\n",
    "labY = 'Probability'\n",
    "axis_format(ax1, labX, labY, fs)\n",
    "ax1.legend([l1,l2,l3],['dispatch', 'min running costs', 'min emissions'])\n"
   ]
  },
  {
   "cell_type": "code",
   "execution_count": 102,
   "metadata": {},
   "outputs": [
    {
     "name": "stdout",
     "output_type": "stream",
     "text": [
      "manually calculated objective function 21.34\n",
      "manually calculated objective function 20.83\n",
      "manually calculated objective function 21.37\n"
     ]
    }
   ],
   "source": [
    "print('manually calculated objective function %.2f'\\\n",
    "      %((np.sum(np.sum(estimateMix, axis=0)*fuelCosts))/np.sum(estimateMix)))\n",
    "print('manually calculated objective function %.2f'\\\n",
    "      %((np.sum(np.sum(estimateMixFC, axis=0)*fuelCosts))/np.sum(estimateMixFC)))\n",
    "print('manually calculated objective function %.2f'\\\n",
    "      %((np.sum(np.sum(estimateMixEC, axis=0)*fuelCosts))/np.sum(estimateMixEC)))"
   ]
  },
  {
   "cell_type": "code",
   "execution_count": 103,
   "metadata": {},
   "outputs": [
    {
     "name": "stdout",
     "output_type": "stream",
     "text": [
      "manually calculated objective function 353.08\n",
      "manually calculated objective function 348.57\n",
      "manually calculated objective function 336.74\n"
     ]
    }
   ],
   "source": [
    "print('manually calculated objective function %.2f'\\\n",
    "      %((np.sum(np.sum(estimateMix, axis=0)*emissions))/np.sum(estimateMix)))\n",
    "print('manually calculated objective function %.2f'\\\n",
    "      %((np.sum(np.sum(estimateMixFC, axis=0)*emissions))/np.sum(estimateMixFC)))\n",
    "print('manually calculated objective function %.2f'\\\n",
    "      %((np.sum(np.sum(estimateMixEC, axis=0)*emissions))/np.sum(estimateMixEC)))"
   ]
  },
  {
   "cell_type": "code",
   "execution_count": 106,
   "metadata": {},
   "outputs": [
    {
     "data": {
      "text/plain": [
       "0.9535542339280656"
      ]
     },
     "execution_count": 106,
     "metadata": {},
     "output_type": "execute_result"
    }
   ],
   "source": [
    "336.7/353.1"
   ]
  },
  {
   "cell_type": "code",
   "execution_count": null,
   "metadata": {},
   "outputs": [],
   "source": []
  }
 ],
 "metadata": {
  "kernelspec": {
   "display_name": "Python 3",
   "language": "python",
   "name": "python3"
  },
  "language_info": {
   "codemirror_mode": {
    "name": "ipython",
    "version": 3
   },
   "file_extension": ".py",
   "mimetype": "text/x-python",
   "name": "python",
   "nbconvert_exporter": "python",
   "pygments_lexer": "ipython3",
   "version": "3.6.7"
  }
 },
 "nbformat": 4,
 "nbformat_minor": 2
}
